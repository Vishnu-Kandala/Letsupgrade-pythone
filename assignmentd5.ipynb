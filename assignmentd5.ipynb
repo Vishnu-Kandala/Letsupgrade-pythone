{
  "nbformat": 4,
  "nbformat_minor": 0,
  "metadata": {
    "colab": {
      "name": "assignmentd5.ipynb",
      "provenance": [],
      "authorship_tag": "ABX9TyOfIp3zoTCejfWK1xdihYXB",
      "include_colab_link": true
    },
    "kernelspec": {
      "name": "python3",
      "display_name": "Python 3"
    }
  },
  "cells": [
    {
      "cell_type": "markdown",
      "metadata": {
        "id": "view-in-github",
        "colab_type": "text"
      },
      "source": [
        "<a href=\"https://colab.research.google.com/github/Vishnu-Kandala/Letsupgrade-pythone/blob/master/assignmentd5.ipynb\" target=\"_parent\"><img src=\"https://colab.research.google.com/assets/colab-badge.svg\" alt=\"Open In Colab\"/></a>"
      ]
    },
    {
      "cell_type": "code",
      "metadata": {
        "id": "HuTh1ypMZXvx",
        "colab_type": "code",
        "colab": {
          "base_uri": "https://localhost:8080/",
          "height": 51
        },
        "outputId": "4946b763-7092-426c-9fe8-5f59bfc8bd14"
      },
      "source": [
        "x = [1,5,6,4,1,2,3,5]\n",
        "y = [1,1,5]\n",
        "\n",
        "def check(a,b):\n",
        "    for i in a:\n",
        "        for j in b:\n",
        "            if(len(b)>=0 and j == i):\n",
        "                b.pop(0)\n",
        "            else:\n",
        "                break\n",
        "    return b\n",
        "\n",
        "if len(check(x,y))==0:\n",
        "    print(\"Its a match\")\n",
        "else: print(\"Its gone\")\n",
        "\n",
        "check(x,y)"
      ],
      "execution_count": 18,
      "outputs": [
        {
          "output_type": "stream",
          "text": [
            "Its a match\n"
          ],
          "name": "stdout"
        },
        {
          "output_type": "execute_result",
          "data": {
            "text/plain": [
              "[]"
            ]
          },
          "metadata": {
            "tags": []
          },
          "execution_count": 18
        }
      ]
    }
  ]
}