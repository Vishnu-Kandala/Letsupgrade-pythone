{
  "nbformat": 4,
  "nbformat_minor": 0,
  "metadata": {
    "colab": {
      "name": "Assignment-d4.ipynb",
      "provenance": [],
      "collapsed_sections": [],
      "authorship_tag": "ABX9TyNl7RKIZ9qGwwRklQqRW6eE",
      "include_colab_link": true
    },
    "kernelspec": {
      "name": "python3",
      "display_name": "Python 3"
    }
  },
  "cells": [
    {
      "cell_type": "markdown",
      "metadata": {
        "id": "view-in-github",
        "colab_type": "text"
      },
      "source": [
        "<a href=\"https://colab.research.google.com/github/Vishnu-Kandala/Letsupgrade-pythone/blob/master/Assignment_d4.ipynb\" target=\"_parent\"><img src=\"https://colab.research.google.com/assets/colab-badge.svg\" alt=\"Open In Colab\"/></a>"
      ]
    },
    {
      "cell_type": "code",
      "metadata": {
        "id": "PC7nrmO6DpeD",
        "colab_type": "code",
        "colab": {}
      },
      "source": [
        "Armstrong number"
      ],
      "execution_count": null,
      "outputs": []
    },
    {
      "cell_type": "code",
      "metadata": {
        "id": "DIivOXFpExAQ",
        "colab_type": "code",
        "colab": {
          "base_uri": "https://localhost:8080/",
          "height": 34
        },
        "outputId": "adce7a9e-64d3-4f16-c1e2-f14b959a9e3d"
      },
      "source": [
        "lower = 1042000\n",
        "upper = 702546256\n",
        "\n",
        "for num in range(lower, upper + 1):\n",
        "\n",
        "   # order of number\n",
        "   order = len(str(num))\n",
        "    \n",
        "   # initialize sum\n",
        "   sum = 0\n",
        "\n",
        "   temp = num\n",
        "   while temp > 0:\n",
        "       digit = temp % 10\n",
        "       sum += digit ** order\n",
        "       temp //= 10\n",
        "\n",
        "   if num == sum:\n",
        "       print (num)\n",
        "       break\n",
        "        "
      ],
      "execution_count": 25,
      "outputs": [
        {
          "output_type": "stream",
          "text": [
            "1741725\n"
          ],
          "name": "stdout"
        }
      ]
    }
  ]
}