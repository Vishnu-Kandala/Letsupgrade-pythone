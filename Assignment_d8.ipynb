{
  "nbformat": 4,
  "nbformat_minor": 0,
  "metadata": {
    "colab": {
      "name": "Assignment-d8.ipynb",
      "provenance": []
    },
    "kernelspec": {
      "name": "python3",
      "display_name": "Python 3"
    }
  },
  "cells": [
    {
      "cell_type": "code",
      "metadata": {
        "id": "ABQQJoqrN4ls",
        "colab_type": "code",
        "colab": {}
      },
      "source": [
        "# assignment-d8-1"
      ],
      "execution_count": null,
      "outputs": []
    },
    {
      "cell_type": "code",
      "metadata": {
        "id": "dZbiFm-kRSoY",
        "colab_type": "code",
        "colab": {
          "base_uri": "https://localhost:8080/",
          "height": 51
        },
        "outputId": "85cde2e4-dfd1-4b6b-e011-200b4ea6e774"
      },
      "source": [
        "filename = input(\"Enter file name: \")\n",
        "\n",
        "try:\n",
        "    f = open(filename, \"r\")\n",
        "\n",
        "    for line in f:\n",
        "        print(line, end=\"\")\n",
        "\n",
        "    f.close()\n",
        "\n",
        "except FileNotFoundError:\n",
        "    print(\"File not found\")\n",
        "\n",
        "except PermissionError:\n",
        "    print(\"You don't have the permission to read the file\")\n",
        "\n",
        "except:\n",
        "    print(\"Unexpected error while reading the file\")\n"
      ],
      "execution_count": 25,
      "outputs": [
        {
          "output_type": "stream",
          "text": [
            "Enter file name: vish\n",
            "File not found\n"
          ],
          "name": "stdout"
        }
      ]
    },
    {
      "cell_type": "code",
      "metadata": {
        "id": "lqsa62d7Ra8n",
        "colab_type": "code",
        "colab": {}
      },
      "source": [
        "#assignment-d8-2"
      ],
      "execution_count": null,
      "outputs": []
    },
    {
      "cell_type": "code",
      "metadata": {
        "id": "g-ul0hvRRfeW",
        "colab_type": "code",
        "colab": {
          "base_uri": "https://localhost:8080/",
          "height": 102
        },
        "outputId": "e0ffd89b-87e4-4b3b-96a8-8b2c63cf658e"
      },
      "source": [
        "def g():\n",
        "    print(\"Hi, it's me 'g'\")\n",
        "    print(\"Thanks for calling me\")\n",
        "    \n",
        "def f(func):\n",
        "    print(\"Hi, it's me 'f'\")\n",
        "    print(\"I will call 'func' now\")\n",
        "    func()\n",
        "    print(\"func's real name is \" + func.__name__)        \n",
        "f(g)\n"
      ],
      "execution_count": 33,
      "outputs": [
        {
          "output_type": "stream",
          "text": [
            "Hi, it's me 'f'\n",
            "I will call 'func' now\n",
            "Hi, it's me 'g'\n",
            "Thanks for calling me\n",
            "func's real name is g\n"
          ],
          "name": "stdout"
        }
      ]
    }
  ]
}